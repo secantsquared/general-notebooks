{
 "cells": [
  {
   "cell_type": "markdown",
   "id": "85ea0f71-57fb-43ee-844a-c37b197b4269",
   "metadata": {},
   "source": [
    "Given an array of unique characters arr and a string str, Implement a function getShortestUniqueSubstring that finds the smallest substring of str containing all the characters in arr. Return \"\" (empty string) if such a substring doesn’t exist.\n",
    "\n",
    "Come up with an asymptotically optimal solution and analyze the time and space complexities."
   ]
  },
  {
   "cell_type": "code",
   "execution_count": 37,
   "id": "478ff9a2-6d3d-4e70-9754-335b13e6db33",
   "metadata": {},
   "outputs": [],
   "source": [
    "def smallest_uniq_substr(arr: list[str], st: str) -> str:\n",
    "    for char in st:\n",
    "        if char not in arr:\n",
    "            return \"\""
   ]
  },
  {
   "cell_type": "code",
   "execution_count": 42,
   "id": "8bd00adb-b768-4016-8860-6b2eb3d3ba6a",
   "metadata": {},
   "outputs": [
    {
     "data": {
      "text/plain": [
       "''"
      ]
     },
     "execution_count": 42,
     "metadata": {},
     "output_type": "execute_result"
    }
   ],
   "source": [
    "smallest_uniq_substr([\"S\", \"L\", \"I\", \"P\"], \"SLIPSSA\")"
   ]
  },
  {
   "cell_type": "code",
   "execution_count": null,
   "id": "90c71c9e-89bf-4de6-b890-b56443d5bca4",
   "metadata": {},
   "outputs": [],
   "source": []
  }
 ],
 "metadata": {
  "kernelspec": {
   "display_name": "Python 3 (ipykernel)",
   "language": "python",
   "name": "python3"
  },
  "language_info": {
   "codemirror_mode": {
    "name": "ipython",
    "version": 3
   },
   "file_extension": ".py",
   "mimetype": "text/x-python",
   "name": "python",
   "nbconvert_exporter": "python",
   "pygments_lexer": "ipython3",
   "version": "3.9.7"
  }
 },
 "nbformat": 4,
 "nbformat_minor": 5
}
