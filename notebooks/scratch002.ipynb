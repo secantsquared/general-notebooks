{
 "cells": [
  {
   "cell_type": "code",
   "execution_count": 3,
   "id": "28a33438-e3ab-40e0-8b06-118b4f75c1b2",
   "metadata": {},
   "outputs": [],
   "source": [
    "import os\n",
    "\n",
    "import openai"
   ]
  },
  {
   "cell_type": "code",
   "execution_count": 6,
   "id": "2520d787-9449-423c-924e-2b9e252fb9d0",
   "metadata": {},
   "outputs": [],
   "source": [
    "openai.api_key = os.getenv(\"OPENAI_API_KEY\")\n",
    "openai.organization = \"org-fbDNqVTdutGb1nwTJsOZZ7pR\""
   ]
  },
  {
   "cell_type": "code",
   "execution_count": 8,
   "id": "646487ff-1caa-4af2-897f-6cb60d202b71",
   "metadata": {},
   "outputs": [
    {
     "data": {
      "text/plain": [
       "<OpenAIObject text_completion id=cmpl-3l6UDXd0CcNPGDiz2PPQGnt2UFveD at 0x10a00a8b0> JSON: {\n",
       "  \"choices\": [\n",
       "    {\n",
       "      \"finish_reason\": \"length\",\n",
       "      \"index\": 0,\n",
       "      \"logprobs\": null,\n",
       "      \"text\": \", Brian sold fruit.\"\n",
       "    }\n",
       "  ],\n",
       "  \"created\": 1632355361,\n",
       "  \"id\": \"cmpl-3l6UDXd0CcNPGDiz2PPQGnt2UFveD\",\n",
       "  \"model\": \"davinci:2020-05-03\",\n",
       "  \"object\": \"text_completion\"\n",
       "}"
      ]
     },
     "execution_count": 8,
     "metadata": {},
     "output_type": "execute_result"
    }
   ],
   "source": [
    "openai.Completion.create(\n",
    "    engine=\"davinci\",\n",
    "    prompt=\"Once upon a time\",\n",
    "    max_tokens=5,\n",
    ")"
   ]
  },
  {
   "cell_type": "code",
   "execution_count": null,
   "id": "0e7dc94c-8e38-42de-8ce2-45b3f9f8c7e5",
   "metadata": {},
   "outputs": [],
   "source": []
  }
 ],
 "metadata": {
  "kernelspec": {
   "display_name": "Python 3 (ipykernel)",
   "language": "python",
   "name": "python3"
  },
  "language_info": {
   "codemirror_mode": {
    "name": "ipython",
    "version": 3
   },
   "file_extension": ".py",
   "mimetype": "text/x-python",
   "name": "python",
   "nbconvert_exporter": "python",
   "pygments_lexer": "ipython3",
   "version": "3.9.7"
  }
 },
 "nbformat": 4,
 "nbformat_minor": 5
}
