{
 "cells": [
  {
   "cell_type": "markdown",
   "id": "cfe9e375-8038-4508-b6e0-a180edacbb85",
   "metadata": {},
   "source": [
    "# Southpark EDA"
   ]
  },
  {
   "cell_type": "markdown",
   "id": "77fb8032-c744-4e4c-92b3-24b4750ea43e",
   "metadata": {
    "tags": []
   },
   "source": [
    "## Setup"
   ]
  },
  {
   "cell_type": "code",
   "execution_count": 1,
   "id": "21663ab4-bd9f-4aa5-914f-f5695ab8edf8",
   "metadata": {},
   "outputs": [],
   "source": [
    "from pprint import pprint\n",
    "\n",
    "import matplotlib.pyplot as plt\n",
    "import nltk\n",
    "import numpy as np\n",
    "import pandas as pd\n",
    "import plotly.express as px\n",
    "import seaborn as sns\n",
    "from rich.console import Console\n",
    "from textblob import TextBlob"
   ]
  },
  {
   "cell_type": "code",
   "execution_count": 2,
   "id": "a101aa54-25b9-43a8-8b2f-3f6a2102354b",
   "metadata": {},
   "outputs": [],
   "source": [
    "df_lines = pd.read_csv(\"data/sp_lines.csv\")\n",
    "df_ratings = pd.read_csv(\"data/sp_ratings.csv\")"
   ]
  },
  {
   "cell_type": "markdown",
   "id": "695c127b-12df-41f5-8f10-b28c3e586258",
   "metadata": {
    "tags": []
   },
   "source": [
    "## EDA"
   ]
  },
  {
   "cell_type": "code",
   "execution_count": 3,
   "id": "b03acb24-7c68-44cb-8864-a39886380d3c",
   "metadata": {},
   "outputs": [],
   "source": [
    "def top_n_rated(df, n):\n",
    "    return df.sort_values(by=\"rating\", ascending=False).iloc[0:n, :]\n",
    "\n",
    "\n",
    "def get_lines_by_season_and_episode(df, season_num, episode_num):\n",
    "    return df.loc[\n",
    "        (df[\"season_number\"] == season_num) & (df[\"episode_number\"] == episode_num)\n",
    "    ].iloc[1:-1, :]\n",
    "\n",
    "\n",
    "def plot_lines_per_character(character_series, title=None):\n",
    "    fig = px.bar(character_series)\n",
    "    fig.update_layout(\n",
    "        showlegend=False, xaxis_title=\"character\", yaxis_title=\"line count\", title=title\n",
    "    )\n",
    "    return fig\n",
    "\n",
    "\n",
    "def ratings_and_lines(df, df_lines):\n",
    "    return df.merge(df_lines, how=\"inner\", on=[\"season_number\", \"episode_number\"])\n",
    "\n",
    "\n",
    "def make_blob(df):\n",
    "    return TextBlob(\". \".join(df[\"text\"].dropna().to_numpy()))\n",
    "\n",
    "\n",
    "def make_all_blobs(df, df_lines):\n",
    "    blobs = {}\n",
    "    for tups in df.itertuples():\n",
    "        df_temp = get_lines_by_season_and_episode(\n",
    "            df_lines, tups.season_number, tups.episode_number\n",
    "        )\n",
    "\n",
    "        blobs[tups.episode_name] = make_blob(df_temp)\n",
    "\n",
    "    return blobs"
   ]
  },
  {
   "cell_type": "code",
   "execution_count": 4,
   "id": "0a6dfc82-745c-4efb-a5c1-380cd20dd4fb",
   "metadata": {},
   "outputs": [],
   "source": [
    "top_n = top_n_rated(df_ratings, 100)"
   ]
  },
  {
   "cell_type": "code",
   "execution_count": 5,
   "id": "40765521-91fd-4ce7-b499-da1a383f5f2d",
   "metadata": {},
   "outputs": [],
   "source": [
    "df_rl = ratings_and_lines(top_n, df_lines)"
   ]
  },
  {
   "cell_type": "code",
   "execution_count": 6,
   "id": "eec414a7-b33d-488f-9ddd-b8fe88b58566",
   "metadata": {},
   "outputs": [],
   "source": [
    "top_ten_blobs = make_all_blobs(df_rl, df_lines)"
   ]
  },
  {
   "cell_type": "code",
   "execution_count": 7,
   "id": "9446d5d5-865d-4141-9a6f-87bee7c60323",
   "metadata": {},
   "outputs": [],
   "source": [
    "token = nltk.PunktSentenceTokenizer()"
   ]
  },
  {
   "cell_type": "code",
   "execution_count": 8,
   "id": "68adb4bb-f2fb-42fc-b87a-46c1c963574e",
   "metadata": {},
   "outputs": [],
   "source": [
    "txt = str(top_ten_blobs['AWESOM-O'])"
   ]
  },
  {
   "cell_type": "code",
   "execution_count": 10,
   "id": "4c5637e5-4237-4f49-9d92-4f68ab2f348e",
   "metadata": {},
   "outputs": [],
   "source": [
    "from nltk.corpus import wordnet as wn"
   ]
  },
  {
   "cell_type": "code",
   "execution_count": 11,
   "id": "870df7de-499f-417c-9eaa-b348c04fd18e",
   "metadata": {},
   "outputs": [
    {
     "data": {
      "text/plain": [
       "[]"
      ]
     },
     "execution_count": 11,
     "metadata": {},
     "output_type": "execute_result"
    }
   ],
   "source": [
    "wn.synsets(txt)"
   ]
  },
  {
   "cell_type": "code",
   "execution_count": 12,
   "id": "d5ed7e77-c37e-4255-9d07-ecbd2f84ba01",
   "metadata": {},
   "outputs": [
    {
     "data": {
      "text/plain": [
       "[Synset('hello.n.01'), Synset('hawaii.n.01')]"
      ]
     },
     "execution_count": 12,
     "metadata": {},
     "output_type": "execute_result"
    }
   ],
   "source": [
    "wn.synsets('hi')"
   ]
  },
  {
   "cell_type": "code",
   "execution_count": 13,
   "id": "22d8f207-eddd-4a6b-919e-13f476590942",
   "metadata": {},
   "outputs": [],
   "source": [
    "words = nltk.word_tokenize(txt)"
   ]
  },
  {
   "cell_type": "code",
   "execution_count": 23,
   "id": "329dd99e-4c8b-4341-8774-1a9c4e859621",
   "metadata": {},
   "outputs": [
    {
     "data": {
      "text/plain": [
       "[Synset('angstrom.n.01'),\n",
       " Synset('vitamin_a.n.01'),\n",
       " Synset('deoxyadenosine_monophosphate.n.01'),\n",
       " Synset('adenine.n.01'),\n",
       " Synset('ampere.n.02'),\n",
       " Synset('a.n.06'),\n",
       " Synset('a.n.07')]"
      ]
     },
     "execution_count": 23,
     "metadata": {},
     "output_type": "execute_result"
    }
   ],
   "source": [
    "wn.synsets(words[34])"
   ]
  },
  {
   "cell_type": "code",
   "execution_count": 24,
   "id": "8a28130e-c924-4d66-b542-52539bd797e9",
   "metadata": {},
   "outputs": [
    {
     "data": {
      "text/plain": [
       "'a metric unit of length equal to one ten billionth of a meter (or 0.0001 micron); used to specify wavelengths of electromagnetic radiation'"
      ]
     },
     "execution_count": 24,
     "metadata": {},
     "output_type": "execute_result"
    }
   ],
   "source": [
    "wn.synset('angstrom.n.01').definition()"
   ]
  },
  {
   "cell_type": "code",
   "execution_count": 25,
   "id": "18eb4295-6571-46ac-acde-462f5feed396",
   "metadata": {},
   "outputs": [
    {
     "data": {
      "text/plain": [
       "'a'"
      ]
     },
     "execution_count": 25,
     "metadata": {},
     "output_type": "execute_result"
    }
   ],
   "source": [
    "words[34]"
   ]
  },
  {
   "cell_type": "code",
   "execution_count": 41,
   "id": "c1826b4b-de3e-4f69-8044-5897d319dfb6",
   "metadata": {},
   "outputs": [
    {
     "data": {
      "text/plain": [
       "[]"
      ]
     },
     "execution_count": 41,
     "metadata": {},
     "output_type": "execute_result"
    }
   ],
   "source": [
    "wn.synsets(words[483])"
   ]
  },
  {
   "cell_type": "code",
   "execution_count": 47,
   "id": "441be1c2-c5c5-417d-96af-2026a6b25061",
   "metadata": {},
   "outputs": [
    {
     "data": {
      "image/png": "[encoded data removed]",
      "text/plain": [
       "<Figure size 432x288 with 1 Axes>"
      ]
     },
     "metadata": {
      "needs_background": "light"
     },
     "output_type": "display_data"
    },
    {
     "data": {
      "text/plain": [
       "<AxesSubplot:>"
      ]
     },
     "execution_count": 47,
     "metadata": {},
     "output_type": "execute_result"
    }
   ],
   "source": [
    "nltk.ConditionalFreqDist().plot()"
   ]
  },
  {
   "cell_type": "code",
   "execution_count": null,
   "id": "d26278b6-391e-4c62-8d36-8080a3f2d963",
   "metadata": {},
   "outputs": [],
   "source": []
  }
 ],
 "metadata": {
  "kernelspec": {
   "display_name": "Python 3 (ipykernel)",
   "language": "python",
   "name": "python3"
  },
  "language_info": {
   "codemirror_mode": {
    "name": "ipython",
    "version": 3
   },
   "file_extension": ".py",
   "mimetype": "text/x-python",
   "name": "python",
   "nbconvert_exporter": "python",
   "pygments_lexer": "ipython3",
   "version": "3.9.7"
  }
 },
 "nbformat": 4,
 "nbformat_minor": 5
}
