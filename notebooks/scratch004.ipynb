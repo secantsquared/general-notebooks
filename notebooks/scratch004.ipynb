{
 "cells": [
  {
   "cell_type": "code",
   "execution_count": 19,
   "id": "acf6e034-f600-4e69-bc00-0396f3bf3280",
   "metadata": {},
   "outputs": [],
   "source": [
    "import numpy as np\n",
    "import pandas as pd\n",
    "from pprint import pprint\n",
    "from datetime import datetime"
   ]
  },
  {
   "cell_type": "code",
   "execution_count": 40,
   "id": "f9032e92-0391-485d-ae4a-d7b5c67dadfe",
   "metadata": {},
   "outputs": [],
   "source": [
    "import json\n",
    "import requests"
   ]
  },
  {
   "cell_type": "code",
   "execution_count": 48,
   "id": "7777ea9c-c2b4-49fc-8dc3-349695787f26",
   "metadata": {},
   "outputs": [],
   "source": [
    "url = 'https://api.pushshift.io/reddit/submission/search'"
   ]
  },
  {
   "cell_type": "code",
   "execution_count": 49,
   "id": "b0ab303d-c051-410d-b7e6-f17c1f300791",
   "metadata": {},
   "outputs": [],
   "source": [
    "data = requests.get(url, params={'author': 'alabama_star', 'metadata': True, 'size': 500}).json()['data']"
   ]
  },
  {
   "cell_type": "code",
   "execution_count": 50,
   "id": "edcbab88-8d99-4cda-b03d-d93df3b40c00",
   "metadata": {},
   "outputs": [],
   "source": [
    "for d in data:\n",
    "    d['time'] = datetime.strftime(datetime.fromtimestamp(d['created_utc']), '%m/%d/%Y - %I:%M:%S %p')"
   ]
  },
  {
   "cell_type": "code",
   "execution_count": 51,
   "id": "8de2a6a4-1082-4835-91e8-29d1b586c161",
   "metadata": {},
   "outputs": [],
   "source": [
    "with open('data4.json', 'w') as f:\n",
    "    json.dump(data, f)"
   ]
  },
  {
   "cell_type": "code",
   "execution_count": null,
   "id": "2bc4ea97-c712-4c95-9664-8dbebcd53bcb",
   "metadata": {},
   "outputs": [],
   "source": []
  }
 ],
 "metadata": {
  "kernelspec": {
   "display_name": "Python 3 (ipykernel)",
   "language": "python",
   "name": "python3"
  },
  "language_info": {
   "codemirror_mode": {
    "name": "ipython",
    "version": 3
   },
   "file_extension": ".py",
   "mimetype": "text/x-python",
   "name": "python",
   "nbconvert_exporter": "python",
   "pygments_lexer": "ipython3",
   "version": "3.10.0rc2"
  }
 },
 "nbformat": 4,
 "nbformat_minor": 5
}
